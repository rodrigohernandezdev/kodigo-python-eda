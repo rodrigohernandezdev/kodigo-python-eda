{
 "nbformat": 4,
 "nbformat_minor": 0,
 "metadata": {
  "colab": {
   "provenance": []
  },
  "kernelspec": {
   "name": "python3",
   "display_name": "Python 3"
  },
  "language_info": {
   "name": "python"
  },
  "widgets": {
   "application/vnd.jupyter.widget-state+json": {
    "c205d5c5ae0c4c9695b9f0700671652d": {
     "model_module": "@jupyter-widgets/controls",
     "model_name": "HBoxModel",
     "model_module_version": "1.5.0",
     "state": {
      "_dom_classes": [],
      "_model_module": "@jupyter-widgets/controls",
      "_model_module_version": "1.5.0",
      "_model_name": "HBoxModel",
      "_view_count": null,
      "_view_module": "@jupyter-widgets/controls",
      "_view_module_version": "1.5.0",
      "_view_name": "HBoxView",
      "box_style": "",
      "children": [
       "IPY_MODEL_d17ae130ade64f54b75241133b325572",
       "IPY_MODEL_ac244164ccfd4253820297107a76b094",
       "IPY_MODEL_c4404f9170384fdd99933c722db2a19f"
      ],
      "layout": "IPY_MODEL_286cc9cbdb2a4e849ddc47e4bef14863"
     }
    },
    "d17ae130ade64f54b75241133b325572": {
     "model_module": "@jupyter-widgets/controls",
     "model_name": "HTMLModel",
     "model_module_version": "1.5.0",
     "state": {
      "_dom_classes": [],
      "_model_module": "@jupyter-widgets/controls",
      "_model_module_version": "1.5.0",
      "_model_name": "HTMLModel",
      "_view_count": null,
      "_view_module": "@jupyter-widgets/controls",
      "_view_module_version": "1.5.0",
      "_view_name": "HTMLView",
      "description": "",
      "description_tooltip": null,
      "layout": "IPY_MODEL_2d178059b4df42688f632245baf81c31",
      "placeholder": "​",
      "style": "IPY_MODEL_5bd9df9f25534d488cdcf6e195c16ad9",
      "value": "Summarize dataset: 100%"
     }
    },
    "ac244164ccfd4253820297107a76b094": {
     "model_module": "@jupyter-widgets/controls",
     "model_name": "FloatProgressModel",
     "model_module_version": "1.5.0",
     "state": {
      "_dom_classes": [],
      "_model_module": "@jupyter-widgets/controls",
      "_model_module_version": "1.5.0",
      "_model_name": "FloatProgressModel",
      "_view_count": null,
      "_view_module": "@jupyter-widgets/controls",
      "_view_module_version": "1.5.0",
      "_view_name": "ProgressView",
      "bar_style": "success",
      "description": "",
      "description_tooltip": null,
      "layout": "IPY_MODEL_2a2c333b6aab47ce9e1401aa7dd68d53",
      "max": 5,
      "min": 0,
      "orientation": "horizontal",
      "style": "IPY_MODEL_a7487312fe8d4003acb8bd2594c5a973",
      "value": 5
     }
    },
    "c4404f9170384fdd99933c722db2a19f": {
     "model_module": "@jupyter-widgets/controls",
     "model_name": "HTMLModel",
     "model_module_version": "1.5.0",
     "state": {
      "_dom_classes": [],
      "_model_module": "@jupyter-widgets/controls",
      "_model_module_version": "1.5.0",
      "_model_name": "HTMLModel",
      "_view_count": null,
      "_view_module": "@jupyter-widgets/controls",
      "_view_module_version": "1.5.0",
      "_view_name": "HTMLView",
      "description": "",
      "description_tooltip": null,
      "layout": "IPY_MODEL_6de7922e448345fbaea9004622a572b0",
      "placeholder": "​",
      "style": "IPY_MODEL_280aa4f869ee40ceb4679196259a5788",
      "value": " 26/26 [00:01&lt;00:00, 13.93it/s, Completed]"
     }
    },
    "286cc9cbdb2a4e849ddc47e4bef14863": {
     "model_module": "@jupyter-widgets/base",
     "model_name": "LayoutModel",
     "model_module_version": "1.2.0",
     "state": {
      "_model_module": "@jupyter-widgets/base",
      "_model_module_version": "1.2.0",
      "_model_name": "LayoutModel",
      "_view_count": null,
      "_view_module": "@jupyter-widgets/base",
      "_view_module_version": "1.2.0",
      "_view_name": "LayoutView",
      "align_content": null,
      "align_items": null,
      "align_self": null,
      "border": null,
      "bottom": null,
      "display": null,
      "flex": null,
      "flex_flow": null,
      "grid_area": null,
      "grid_auto_columns": null,
      "grid_auto_flow": null,
      "grid_auto_rows": null,
      "grid_column": null,
      "grid_gap": null,
      "grid_row": null,
      "grid_template_areas": null,
      "grid_template_columns": null,
      "grid_template_rows": null,
      "height": null,
      "justify_content": null,
      "justify_items": null,
      "left": null,
      "margin": null,
      "max_height": null,
      "max_width": null,
      "min_height": null,
      "min_width": null,
      "object_fit": null,
      "object_position": null,
      "order": null,
      "overflow": null,
      "overflow_x": null,
      "overflow_y": null,
      "padding": null,
      "right": null,
      "top": null,
      "visibility": null,
      "width": null
     }
    },
    "2d178059b4df42688f632245baf81c31": {
     "model_module": "@jupyter-widgets/base",
     "model_name": "LayoutModel",
     "model_module_version": "1.2.0",
     "state": {
      "_model_module": "@jupyter-widgets/base",
      "_model_module_version": "1.2.0",
      "_model_name": "LayoutModel",
      "_view_count": null,
      "_view_module": "@jupyter-widgets/base",
      "_view_module_version": "1.2.0",
      "_view_name": "LayoutView",
      "align_content": null,
      "align_items": null,
      "align_self": null,
      "border": null,
      "bottom": null,
      "display": null,
      "flex": null,
      "flex_flow": null,
      "grid_area": null,
      "grid_auto_columns": null,
      "grid_auto_flow": null,
      "grid_auto_rows": null,
      "grid_column": null,
      "grid_gap": null,
      "grid_row": null,
      "grid_template_areas": null,
      "grid_template_columns": null,
      "grid_template_rows": null,
      "height": null,
      "justify_content": null,
      "justify_items": null,
      "left": null,
      "margin": null,
      "max_height": null,
      "max_width": null,
      "min_height": null,
      "min_width": null,
      "object_fit": null,
      "object_position": null,
      "order": null,
      "overflow": null,
      "overflow_x": null,
      "overflow_y": null,
      "padding": null,
      "right": null,
      "top": null,
      "visibility": null,
      "width": null
     }
    },
    "5bd9df9f25534d488cdcf6e195c16ad9": {
     "model_module": "@jupyter-widgets/controls",
     "model_name": "DescriptionStyleModel",
     "model_module_version": "1.5.0",
     "state": {
      "_model_module": "@jupyter-widgets/controls",
      "_model_module_version": "1.5.0",
      "_model_name": "DescriptionStyleModel",
      "_view_count": null,
      "_view_module": "@jupyter-widgets/base",
      "_view_module_version": "1.2.0",
      "_view_name": "StyleView",
      "description_width": ""
     }
    },
    "2a2c333b6aab47ce9e1401aa7dd68d53": {
     "model_module": "@jupyter-widgets/base",
     "model_name": "LayoutModel",
     "model_module_version": "1.2.0",
     "state": {
      "_model_module": "@jupyter-widgets/base",
      "_model_module_version": "1.2.0",
      "_model_name": "LayoutModel",
      "_view_count": null,
      "_view_module": "@jupyter-widgets/base",
      "_view_module_version": "1.2.0",
      "_view_name": "LayoutView",
      "align_content": null,
      "align_items": null,
      "align_self": null,
      "border": null,
      "bottom": null,
      "display": null,
      "flex": null,
      "flex_flow": null,
      "grid_area": null,
      "grid_auto_columns": null,
      "grid_auto_flow": null,
      "grid_auto_rows": null,
      "grid_column": null,
      "grid_gap": null,
      "grid_row": null,
      "grid_template_areas": null,
      "grid_template_columns": null,
      "grid_template_rows": null,
      "height": null,
      "justify_content": null,
      "justify_items": null,
      "left": null,
      "margin": null,
      "max_height": null,
      "max_width": null,
      "min_height": null,
      "min_width": null,
      "object_fit": null,
      "object_position": null,
      "order": null,
      "overflow": null,
      "overflow_x": null,
      "overflow_y": null,
      "padding": null,
      "right": null,
      "top": null,
      "visibility": null,
      "width": null
     }
    },
    "a7487312fe8d4003acb8bd2594c5a973": {
     "model_module": "@jupyter-widgets/controls",
     "model_name": "ProgressStyleModel",
     "model_module_version": "1.5.0",
     "state": {
      "_model_module": "@jupyter-widgets/controls",
      "_model_module_version": "1.5.0",
      "_model_name": "ProgressStyleModel",
      "_view_count": null,
      "_view_module": "@jupyter-widgets/base",
      "_view_module_version": "1.2.0",
      "_view_name": "StyleView",
      "bar_color": null,
      "description_width": ""
     }
    },
    "6de7922e448345fbaea9004622a572b0": {
     "model_module": "@jupyter-widgets/base",
     "model_name": "LayoutModel",
     "model_module_version": "1.2.0",
     "state": {
      "_model_module": "@jupyter-widgets/base",
      "_model_module_version": "1.2.0",
      "_model_name": "LayoutModel",
      "_view_count": null,
      "_view_module": "@jupyter-widgets/base",
      "_view_module_version": "1.2.0",
      "_view_name": "LayoutView",
      "align_content": null,
      "align_items": null,
      "align_self": null,
      "border": null,
      "bottom": null,
      "display": null,
      "flex": null,
      "flex_flow": null,
      "grid_area": null,
      "grid_auto_columns": null,
      "grid_auto_flow": null,
      "grid_auto_rows": null,
      "grid_column": null,
      "grid_gap": null,
      "grid_row": null,
      "grid_template_areas": null,
      "grid_template_columns": null,
      "grid_template_rows": null,
      "height": null,
      "justify_content": null,
      "justify_items": null,
      "left": null,
      "margin": null,
      "max_height": null,
      "max_width": null,
      "min_height": null,
      "min_width": null,
      "object_fit": null,
      "object_position": null,
      "order": null,
      "overflow": null,
      "overflow_x": null,
      "overflow_y": null,
      "padding": null,
      "right": null,
      "top": null,
      "visibility": null,
      "width": null
     }
    },
    "280aa4f869ee40ceb4679196259a5788": {
     "model_module": "@jupyter-widgets/controls",
     "model_name": "DescriptionStyleModel",
     "model_module_version": "1.5.0",
     "state": {
      "_model_module": "@jupyter-widgets/controls",
      "_model_module_version": "1.5.0",
      "_model_name": "DescriptionStyleModel",
      "_view_count": null,
      "_view_module": "@jupyter-widgets/base",
      "_view_module_version": "1.2.0",
      "_view_name": "StyleView",
      "description_width": ""
     }
    },
    "d1ea1cbab0504747b8f50b36bc95b923": {
     "model_module": "@jupyter-widgets/controls",
     "model_name": "HBoxModel",
     "model_module_version": "1.5.0",
     "state": {
      "_dom_classes": [],
      "_model_module": "@jupyter-widgets/controls",
      "_model_module_version": "1.5.0",
      "_model_name": "HBoxModel",
      "_view_count": null,
      "_view_module": "@jupyter-widgets/controls",
      "_view_module_version": "1.5.0",
      "_view_name": "HBoxView",
      "box_style": "",
      "children": [
       "IPY_MODEL_55030e1e6be54906aaffc3748e687bf0",
       "IPY_MODEL_fe8563c008a44720ac044de17924d83e",
       "IPY_MODEL_2cd8cf8d14fc4643aa7c6c5b2e8ae2ad"
      ],
      "layout": "IPY_MODEL_cbd1109b11364c5bb597dde4709dd6ae"
     }
    },
    "55030e1e6be54906aaffc3748e687bf0": {
     "model_module": "@jupyter-widgets/controls",
     "model_name": "HTMLModel",
     "model_module_version": "1.5.0",
     "state": {
      "_dom_classes": [],
      "_model_module": "@jupyter-widgets/controls",
      "_model_module_version": "1.5.0",
      "_model_name": "HTMLModel",
      "_view_count": null,
      "_view_module": "@jupyter-widgets/controls",
      "_view_module_version": "1.5.0",
      "_view_name": "HTMLView",
      "description": "",
      "description_tooltip": null,
      "layout": "IPY_MODEL_afac5bc9790e47bb97d7c2f119f43b36",
      "placeholder": "​",
      "style": "IPY_MODEL_9b64276bbcc14bc4a8d712d707435249",
      "value": "Generate report structure: 100%"
     }
    },
    "fe8563c008a44720ac044de17924d83e": {
     "model_module": "@jupyter-widgets/controls",
     "model_name": "FloatProgressModel",
     "model_module_version": "1.5.0",
     "state": {
      "_dom_classes": [],
      "_model_module": "@jupyter-widgets/controls",
      "_model_module_version": "1.5.0",
      "_model_name": "FloatProgressModel",
      "_view_count": null,
      "_view_module": "@jupyter-widgets/controls",
      "_view_module_version": "1.5.0",
      "_view_name": "ProgressView",
      "bar_style": "success",
      "description": "",
      "description_tooltip": null,
      "layout": "IPY_MODEL_31471cb3761d435d9a7a5d0a207601ab",
      "max": 1,
      "min": 0,
      "orientation": "horizontal",
      "style": "IPY_MODEL_2fefe413a71d4cdf8a326a77c4a1194a",
      "value": 1
     }
    },
    "2cd8cf8d14fc4643aa7c6c5b2e8ae2ad": {
     "model_module": "@jupyter-widgets/controls",
     "model_name": "HTMLModel",
     "model_module_version": "1.5.0",
     "state": {
      "_dom_classes": [],
      "_model_module": "@jupyter-widgets/controls",
      "_model_module_version": "1.5.0",
      "_model_name": "HTMLModel",
      "_view_count": null,
      "_view_module": "@jupyter-widgets/controls",
      "_view_module_version": "1.5.0",
      "_view_name": "HTMLView",
      "description": "",
      "description_tooltip": null,
      "layout": "IPY_MODEL_8314e2898c2b485fa94b783ae5de7fc8",
      "placeholder": "​",
      "style": "IPY_MODEL_fc143fbdc0544621b978d9e4df0af1f3",
      "value": " 1/1 [00:04&lt;00:00,  4.50s/it]"
     }
    },
    "cbd1109b11364c5bb597dde4709dd6ae": {
     "model_module": "@jupyter-widgets/base",
     "model_name": "LayoutModel",
     "model_module_version": "1.2.0",
     "state": {
      "_model_module": "@jupyter-widgets/base",
      "_model_module_version": "1.2.0",
      "_model_name": "LayoutModel",
      "_view_count": null,
      "_view_module": "@jupyter-widgets/base",
      "_view_module_version": "1.2.0",
      "_view_name": "LayoutView",
      "align_content": null,
      "align_items": null,
      "align_self": null,
      "border": null,
      "bottom": null,
      "display": null,
      "flex": null,
      "flex_flow": null,
      "grid_area": null,
      "grid_auto_columns": null,
      "grid_auto_flow": null,
      "grid_auto_rows": null,
      "grid_column": null,
      "grid_gap": null,
      "grid_row": null,
      "grid_template_areas": null,
      "grid_template_columns": null,
      "grid_template_rows": null,
      "height": null,
      "justify_content": null,
      "justify_items": null,
      "left": null,
      "margin": null,
      "max_height": null,
      "max_width": null,
      "min_height": null,
      "min_width": null,
      "object_fit": null,
      "object_position": null,
      "order": null,
      "overflow": null,
      "overflow_x": null,
      "overflow_y": null,
      "padding": null,
      "right": null,
      "top": null,
      "visibility": null,
      "width": null
     }
    },
    "afac5bc9790e47bb97d7c2f119f43b36": {
     "model_module": "@jupyter-widgets/base",
     "model_name": "LayoutModel",
     "model_module_version": "1.2.0",
     "state": {
      "_model_module": "@jupyter-widgets/base",
      "_model_module_version": "1.2.0",
      "_model_name": "LayoutModel",
      "_view_count": null,
      "_view_module": "@jupyter-widgets/base",
      "_view_module_version": "1.2.0",
      "_view_name": "LayoutView",
      "align_content": null,
      "align_items": null,
      "align_self": null,
      "border": null,
      "bottom": null,
      "display": null,
      "flex": null,
      "flex_flow": null,
      "grid_area": null,
      "grid_auto_columns": null,
      "grid_auto_flow": null,
      "grid_auto_rows": null,
      "grid_column": null,
      "grid_gap": null,
      "grid_row": null,
      "grid_template_areas": null,
      "grid_template_columns": null,
      "grid_template_rows": null,
      "height": null,
      "justify_content": null,
      "justify_items": null,
      "left": null,
      "margin": null,
      "max_height": null,
      "max_width": null,
      "min_height": null,
      "min_width": null,
      "object_fit": null,
      "object_position": null,
      "order": null,
      "overflow": null,
      "overflow_x": null,
      "overflow_y": null,
      "padding": null,
      "right": null,
      "top": null,
      "visibility": null,
      "width": null
     }
    },
    "9b64276bbcc14bc4a8d712d707435249": {
     "model_module": "@jupyter-widgets/controls",
     "model_name": "DescriptionStyleModel",
     "model_module_version": "1.5.0",
     "state": {
      "_model_module": "@jupyter-widgets/controls",
      "_model_module_version": "1.5.0",
      "_model_name": "DescriptionStyleModel",
      "_view_count": null,
      "_view_module": "@jupyter-widgets/base",
      "_view_module_version": "1.2.0",
      "_view_name": "StyleView",
      "description_width": ""
     }
    },
    "31471cb3761d435d9a7a5d0a207601ab": {
     "model_module": "@jupyter-widgets/base",
     "model_name": "LayoutModel",
     "model_module_version": "1.2.0",
     "state": {
      "_model_module": "@jupyter-widgets/base",
      "_model_module_version": "1.2.0",
      "_model_name": "LayoutModel",
      "_view_count": null,
      "_view_module": "@jupyter-widgets/base",
      "_view_module_version": "1.2.0",
      "_view_name": "LayoutView",
      "align_content": null,
      "align_items": null,
      "align_self": null,
      "border": null,
      "bottom": null,
      "display": null,
      "flex": null,
      "flex_flow": null,
      "grid_area": null,
      "grid_auto_columns": null,
      "grid_auto_flow": null,
      "grid_auto_rows": null,
      "grid_column": null,
      "grid_gap": null,
      "grid_row": null,
      "grid_template_areas": null,
      "grid_template_columns": null,
      "grid_template_rows": null,
      "height": null,
      "justify_content": null,
      "justify_items": null,
      "left": null,
      "margin": null,
      "max_height": null,
      "max_width": null,
      "min_height": null,
      "min_width": null,
      "object_fit": null,
      "object_position": null,
      "order": null,
      "overflow": null,
      "overflow_x": null,
      "overflow_y": null,
      "padding": null,
      "right": null,
      "top": null,
      "visibility": null,
      "width": null
     }
    },
    "2fefe413a71d4cdf8a326a77c4a1194a": {
     "model_module": "@jupyter-widgets/controls",
     "model_name": "ProgressStyleModel",
     "model_module_version": "1.5.0",
     "state": {
      "_model_module": "@jupyter-widgets/controls",
      "_model_module_version": "1.5.0",
      "_model_name": "ProgressStyleModel",
      "_view_count": null,
      "_view_module": "@jupyter-widgets/base",
      "_view_module_version": "1.2.0",
      "_view_name": "StyleView",
      "bar_color": null,
      "description_width": ""
     }
    },
    "8314e2898c2b485fa94b783ae5de7fc8": {
     "model_module": "@jupyter-widgets/base",
     "model_name": "LayoutModel",
     "model_module_version": "1.2.0",
     "state": {
      "_model_module": "@jupyter-widgets/base",
      "_model_module_version": "1.2.0",
      "_model_name": "LayoutModel",
      "_view_count": null,
      "_view_module": "@jupyter-widgets/base",
      "_view_module_version": "1.2.0",
      "_view_name": "LayoutView",
      "align_content": null,
      "align_items": null,
      "align_self": null,
      "border": null,
      "bottom": null,
      "display": null,
      "flex": null,
      "flex_flow": null,
      "grid_area": null,
      "grid_auto_columns": null,
      "grid_auto_flow": null,
      "grid_auto_rows": null,
      "grid_column": null,
      "grid_gap": null,
      "grid_row": null,
      "grid_template_areas": null,
      "grid_template_columns": null,
      "grid_template_rows": null,
      "height": null,
      "justify_content": null,
      "justify_items": null,
      "left": null,
      "margin": null,
      "max_height": null,
      "max_width": null,
      "min_height": null,
      "min_width": null,
      "object_fit": null,
      "object_position": null,
      "order": null,
      "overflow": null,
      "overflow_x": null,
      "overflow_y": null,
      "padding": null,
      "right": null,
      "top": null,
      "visibility": null,
      "width": null
     }
    },
    "fc143fbdc0544621b978d9e4df0af1f3": {
     "model_module": "@jupyter-widgets/controls",
     "model_name": "DescriptionStyleModel",
     "model_module_version": "1.5.0",
     "state": {
      "_model_module": "@jupyter-widgets/controls",
      "_model_module_version": "1.5.0",
      "_model_name": "DescriptionStyleModel",
      "_view_count": null,
      "_view_module": "@jupyter-widgets/base",
      "_view_module_version": "1.2.0",
      "_view_name": "StyleView",
      "description_width": ""
     }
    },
    "e2f4421207e345b9a70e1571c94dc45d": {
     "model_module": "@jupyter-widgets/controls",
     "model_name": "HBoxModel",
     "model_module_version": "1.5.0",
     "state": {
      "_dom_classes": [],
      "_model_module": "@jupyter-widgets/controls",
      "_model_module_version": "1.5.0",
      "_model_name": "HBoxModel",
      "_view_count": null,
      "_view_module": "@jupyter-widgets/controls",
      "_view_module_version": "1.5.0",
      "_view_name": "HBoxView",
      "box_style": "",
      "children": [
       "IPY_MODEL_a0fcd2de48ef44a4914e96a8bf684bdb",
       "IPY_MODEL_083fd0aeff794c6e8ca7e8afccc5e457",
       "IPY_MODEL_84b082c8a8a64d33ac2245df50feda8d"
      ],
      "layout": "IPY_MODEL_049dd2c5a02443d8a4ca783d2e688263"
     }
    },
    "a0fcd2de48ef44a4914e96a8bf684bdb": {
     "model_module": "@jupyter-widgets/controls",
     "model_name": "HTMLModel",
     "model_module_version": "1.5.0",
     "state": {
      "_dom_classes": [],
      "_model_module": "@jupyter-widgets/controls",
      "_model_module_version": "1.5.0",
      "_model_name": "HTMLModel",
      "_view_count": null,
      "_view_module": "@jupyter-widgets/controls",
      "_view_module_version": "1.5.0",
      "_view_name": "HTMLView",
      "description": "",
      "description_tooltip": null,
      "layout": "IPY_MODEL_dfacec369a4045d6a46502b494db900d",
      "placeholder": "​",
      "style": "IPY_MODEL_eeec7b1d806246ce8c2ae6bcb55e1fd9",
      "value": "Render HTML: 100%"
     }
    },
    "083fd0aeff794c6e8ca7e8afccc5e457": {
     "model_module": "@jupyter-widgets/controls",
     "model_name": "FloatProgressModel",
     "model_module_version": "1.5.0",
     "state": {
      "_dom_classes": [],
      "_model_module": "@jupyter-widgets/controls",
      "_model_module_version": "1.5.0",
      "_model_name": "FloatProgressModel",
      "_view_count": null,
      "_view_module": "@jupyter-widgets/controls",
      "_view_module_version": "1.5.0",
      "_view_name": "ProgressView",
      "bar_style": "success",
      "description": "",
      "description_tooltip": null,
      "layout": "IPY_MODEL_027a859b6e3e4af7a27834211de07db2",
      "max": 1,
      "min": 0,
      "orientation": "horizontal",
      "style": "IPY_MODEL_523ef4e635c54d888207f6fe7d209146",
      "value": 1
     }
    },
    "84b082c8a8a64d33ac2245df50feda8d": {
     "model_module": "@jupyter-widgets/controls",
     "model_name": "HTMLModel",
     "model_module_version": "1.5.0",
     "state": {
      "_dom_classes": [],
      "_model_module": "@jupyter-widgets/controls",
      "_model_module_version": "1.5.0",
      "_model_name": "HTMLModel",
      "_view_count": null,
      "_view_module": "@jupyter-widgets/controls",
      "_view_module_version": "1.5.0",
      "_view_name": "HTMLView",
      "description": "",
      "description_tooltip": null,
      "layout": "IPY_MODEL_fb567196461f4dcdb0409424ce7bb334",
      "placeholder": "​",
      "style": "IPY_MODEL_33ed7370c57c4eca8d77cc70a7d89937",
      "value": " 1/1 [00:00&lt;00:00,  2.00it/s]"
     }
    },
    "049dd2c5a02443d8a4ca783d2e688263": {
     "model_module": "@jupyter-widgets/base",
     "model_name": "LayoutModel",
     "model_module_version": "1.2.0",
     "state": {
      "_model_module": "@jupyter-widgets/base",
      "_model_module_version": "1.2.0",
      "_model_name": "LayoutModel",
      "_view_count": null,
      "_view_module": "@jupyter-widgets/base",
      "_view_module_version": "1.2.0",
      "_view_name": "LayoutView",
      "align_content": null,
      "align_items": null,
      "align_self": null,
      "border": null,
      "bottom": null,
      "display": null,
      "flex": null,
      "flex_flow": null,
      "grid_area": null,
      "grid_auto_columns": null,
      "grid_auto_flow": null,
      "grid_auto_rows": null,
      "grid_column": null,
      "grid_gap": null,
      "grid_row": null,
      "grid_template_areas": null,
      "grid_template_columns": null,
      "grid_template_rows": null,
      "height": null,
      "justify_content": null,
      "justify_items": null,
      "left": null,
      "margin": null,
      "max_height": null,
      "max_width": null,
      "min_height": null,
      "min_width": null,
      "object_fit": null,
      "object_position": null,
      "order": null,
      "overflow": null,
      "overflow_x": null,
      "overflow_y": null,
      "padding": null,
      "right": null,
      "top": null,
      "visibility": null,
      "width": null
     }
    },
    "dfacec369a4045d6a46502b494db900d": {
     "model_module": "@jupyter-widgets/base",
     "model_name": "LayoutModel",
     "model_module_version": "1.2.0",
     "state": {
      "_model_module": "@jupyter-widgets/base",
      "_model_module_version": "1.2.0",
      "_model_name": "LayoutModel",
      "_view_count": null,
      "_view_module": "@jupyter-widgets/base",
      "_view_module_version": "1.2.0",
      "_view_name": "LayoutView",
      "align_content": null,
      "align_items": null,
      "align_self": null,
      "border": null,
      "bottom": null,
      "display": null,
      "flex": null,
      "flex_flow": null,
      "grid_area": null,
      "grid_auto_columns": null,
      "grid_auto_flow": null,
      "grid_auto_rows": null,
      "grid_column": null,
      "grid_gap": null,
      "grid_row": null,
      "grid_template_areas": null,
      "grid_template_columns": null,
      "grid_template_rows": null,
      "height": null,
      "justify_content": null,
      "justify_items": null,
      "left": null,
      "margin": null,
      "max_height": null,
      "max_width": null,
      "min_height": null,
      "min_width": null,
      "object_fit": null,
      "object_position": null,
      "order": null,
      "overflow": null,
      "overflow_x": null,
      "overflow_y": null,
      "padding": null,
      "right": null,
      "top": null,
      "visibility": null,
      "width": null
     }
    },
    "eeec7b1d806246ce8c2ae6bcb55e1fd9": {
     "model_module": "@jupyter-widgets/controls",
     "model_name": "DescriptionStyleModel",
     "model_module_version": "1.5.0",
     "state": {
      "_model_module": "@jupyter-widgets/controls",
      "_model_module_version": "1.5.0",
      "_model_name": "DescriptionStyleModel",
      "_view_count": null,
      "_view_module": "@jupyter-widgets/base",
      "_view_module_version": "1.2.0",
      "_view_name": "StyleView",
      "description_width": ""
     }
    },
    "027a859b6e3e4af7a27834211de07db2": {
     "model_module": "@jupyter-widgets/base",
     "model_name": "LayoutModel",
     "model_module_version": "1.2.0",
     "state": {
      "_model_module": "@jupyter-widgets/base",
      "_model_module_version": "1.2.0",
      "_model_name": "LayoutModel",
      "_view_count": null,
      "_view_module": "@jupyter-widgets/base",
      "_view_module_version": "1.2.0",
      "_view_name": "LayoutView",
      "align_content": null,
      "align_items": null,
      "align_self": null,
      "border": null,
      "bottom": null,
      "display": null,
      "flex": null,
      "flex_flow": null,
      "grid_area": null,
      "grid_auto_columns": null,
      "grid_auto_flow": null,
      "grid_auto_rows": null,
      "grid_column": null,
      "grid_gap": null,
      "grid_row": null,
      "grid_template_areas": null,
      "grid_template_columns": null,
      "grid_template_rows": null,
      "height": null,
      "justify_content": null,
      "justify_items": null,
      "left": null,
      "margin": null,
      "max_height": null,
      "max_width": null,
      "min_height": null,
      "min_width": null,
      "object_fit": null,
      "object_position": null,
      "order": null,
      "overflow": null,
      "overflow_x": null,
      "overflow_y": null,
      "padding": null,
      "right": null,
      "top": null,
      "visibility": null,
      "width": null
     }
    },
    "523ef4e635c54d888207f6fe7d209146": {
     "model_module": "@jupyter-widgets/controls",
     "model_name": "ProgressStyleModel",
     "model_module_version": "1.5.0",
     "state": {
      "_model_module": "@jupyter-widgets/controls",
      "_model_module_version": "1.5.0",
      "_model_name": "ProgressStyleModel",
      "_view_count": null,
      "_view_module": "@jupyter-widgets/base",
      "_view_module_version": "1.2.0",
      "_view_name": "StyleView",
      "bar_color": null,
      "description_width": ""
     }
    },
    "fb567196461f4dcdb0409424ce7bb334": {
     "model_module": "@jupyter-widgets/base",
     "model_name": "LayoutModel",
     "model_module_version": "1.2.0",
     "state": {
      "_model_module": "@jupyter-widgets/base",
      "_model_module_version": "1.2.0",
      "_model_name": "LayoutModel",
      "_view_count": null,
      "_view_module": "@jupyter-widgets/base",
      "_view_module_version": "1.2.0",
      "_view_name": "LayoutView",
      "align_content": null,
      "align_items": null,
      "align_self": null,
      "border": null,
      "bottom": null,
      "display": null,
      "flex": null,
      "flex_flow": null,
      "grid_area": null,
      "grid_auto_columns": null,
      "grid_auto_flow": null,
      "grid_auto_rows": null,
      "grid_column": null,
      "grid_gap": null,
      "grid_row": null,
      "grid_template_areas": null,
      "grid_template_columns": null,
      "grid_template_rows": null,
      "height": null,
      "justify_content": null,
      "justify_items": null,
      "left": null,
      "margin": null,
      "max_height": null,
      "max_width": null,
      "min_height": null,
      "min_width": null,
      "object_fit": null,
      "object_position": null,
      "order": null,
      "overflow": null,
      "overflow_x": null,
      "overflow_y": null,
      "padding": null,
      "right": null,
      "top": null,
      "visibility": null,
      "width": null
     }
    },
    "33ed7370c57c4eca8d77cc70a7d89937": {
     "model_module": "@jupyter-widgets/controls",
     "model_name": "DescriptionStyleModel",
     "model_module_version": "1.5.0",
     "state": {
      "_model_module": "@jupyter-widgets/controls",
      "_model_module_version": "1.5.0",
      "_model_name": "DescriptionStyleModel",
      "_view_count": null,
      "_view_module": "@jupyter-widgets/base",
      "_view_module_version": "1.2.0",
      "_view_name": "StyleView",
      "description_width": ""
     }
    },
    "ff7e2a5280494cf3b1362ac1e9ca51a9": {
     "model_module": "@jupyter-widgets/controls",
     "model_name": "HBoxModel",
     "model_module_version": "1.5.0",
     "state": {
      "_dom_classes": [],
      "_model_module": "@jupyter-widgets/controls",
      "_model_module_version": "1.5.0",
      "_model_name": "HBoxModel",
      "_view_count": null,
      "_view_module": "@jupyter-widgets/controls",
      "_view_module_version": "1.5.0",
      "_view_name": "HBoxView",
      "box_style": "",
      "children": [
       "IPY_MODEL_5d2b3dc191fa40e0a23ab9855ea6d917",
       "IPY_MODEL_fc5b0e5d80aa415598ee7e6871ed4b27",
       "IPY_MODEL_9a9079bda20c471d815198c957f7c509"
      ],
      "layout": "IPY_MODEL_8f202cab266c4c62bb5e1b181b6ed2cb"
     }
    },
    "5d2b3dc191fa40e0a23ab9855ea6d917": {
     "model_module": "@jupyter-widgets/controls",
     "model_name": "HTMLModel",
     "model_module_version": "1.5.0",
     "state": {
      "_dom_classes": [],
      "_model_module": "@jupyter-widgets/controls",
      "_model_module_version": "1.5.0",
      "_model_name": "HTMLModel",
      "_view_count": null,
      "_view_module": "@jupyter-widgets/controls",
      "_view_module_version": "1.5.0",
      "_view_name": "HTMLView",
      "description": "",
      "description_tooltip": null,
      "layout": "IPY_MODEL_7a30ab2776604166bba4d7ffe602e49a",
      "placeholder": "​",
      "style": "IPY_MODEL_7f937323e844419daa0c07bae26a927f",
      "value": "Export report to file: 100%"
     }
    },
    "fc5b0e5d80aa415598ee7e6871ed4b27": {
     "model_module": "@jupyter-widgets/controls",
     "model_name": "FloatProgressModel",
     "model_module_version": "1.5.0",
     "state": {
      "_dom_classes": [],
      "_model_module": "@jupyter-widgets/controls",
      "_model_module_version": "1.5.0",
      "_model_name": "FloatProgressModel",
      "_view_count": null,
      "_view_module": "@jupyter-widgets/controls",
      "_view_module_version": "1.5.0",
      "_view_name": "ProgressView",
      "bar_style": "success",
      "description": "",
      "description_tooltip": null,
      "layout": "IPY_MODEL_ea681d22244a4d7cb9aa5fc5853038f4",
      "max": 1,
      "min": 0,
      "orientation": "horizontal",
      "style": "IPY_MODEL_b2052f439c8c44ceb05728591918b11f",
      "value": 1
     }
    },
    "9a9079bda20c471d815198c957f7c509": {
     "model_module": "@jupyter-widgets/controls",
     "model_name": "HTMLModel",
     "model_module_version": "1.5.0",
     "state": {
      "_dom_classes": [],
      "_model_module": "@jupyter-widgets/controls",
      "_model_module_version": "1.5.0",
      "_model_name": "HTMLModel",
      "_view_count": null,
      "_view_module": "@jupyter-widgets/controls",
      "_view_module_version": "1.5.0",
      "_view_name": "HTMLView",
      "description": "",
      "description_tooltip": null,
      "layout": "IPY_MODEL_c4077599db754043a36325b7af90f3d4",
      "placeholder": "​",
      "style": "IPY_MODEL_a9ec1fe9f02843c49427ce9e6e1f1970",
      "value": " 1/1 [00:00&lt;00:00, 37.72it/s]"
     }
    },
    "8f202cab266c4c62bb5e1b181b6ed2cb": {
     "model_module": "@jupyter-widgets/base",
     "model_name": "LayoutModel",
     "model_module_version": "1.2.0",
     "state": {
      "_model_module": "@jupyter-widgets/base",
      "_model_module_version": "1.2.0",
      "_model_name": "LayoutModel",
      "_view_count": null,
      "_view_module": "@jupyter-widgets/base",
      "_view_module_version": "1.2.0",
      "_view_name": "LayoutView",
      "align_content": null,
      "align_items": null,
      "align_self": null,
      "border": null,
      "bottom": null,
      "display": null,
      "flex": null,
      "flex_flow": null,
      "grid_area": null,
      "grid_auto_columns": null,
      "grid_auto_flow": null,
      "grid_auto_rows": null,
      "grid_column": null,
      "grid_gap": null,
      "grid_row": null,
      "grid_template_areas": null,
      "grid_template_columns": null,
      "grid_template_rows": null,
      "height": null,
      "justify_content": null,
      "justify_items": null,
      "left": null,
      "margin": null,
      "max_height": null,
      "max_width": null,
      "min_height": null,
      "min_width": null,
      "object_fit": null,
      "object_position": null,
      "order": null,
      "overflow": null,
      "overflow_x": null,
      "overflow_y": null,
      "padding": null,
      "right": null,
      "top": null,
      "visibility": null,
      "width": null
     }
    },
    "7a30ab2776604166bba4d7ffe602e49a": {
     "model_module": "@jupyter-widgets/base",
     "model_name": "LayoutModel",
     "model_module_version": "1.2.0",
     "state": {
      "_model_module": "@jupyter-widgets/base",
      "_model_module_version": "1.2.0",
      "_model_name": "LayoutModel",
      "_view_count": null,
      "_view_module": "@jupyter-widgets/base",
      "_view_module_version": "1.2.0",
      "_view_name": "LayoutView",
      "align_content": null,
      "align_items": null,
      "align_self": null,
      "border": null,
      "bottom": null,
      "display": null,
      "flex": null,
      "flex_flow": null,
      "grid_area": null,
      "grid_auto_columns": null,
      "grid_auto_flow": null,
      "grid_auto_rows": null,
      "grid_column": null,
      "grid_gap": null,
      "grid_row": null,
      "grid_template_areas": null,
      "grid_template_columns": null,
      "grid_template_rows": null,
      "height": null,
      "justify_content": null,
      "justify_items": null,
      "left": null,
      "margin": null,
      "max_height": null,
      "max_width": null,
      "min_height": null,
      "min_width": null,
      "object_fit": null,
      "object_position": null,
      "order": null,
      "overflow": null,
      "overflow_x": null,
      "overflow_y": null,
      "padding": null,
      "right": null,
      "top": null,
      "visibility": null,
      "width": null
     }
    },
    "7f937323e844419daa0c07bae26a927f": {
     "model_module": "@jupyter-widgets/controls",
     "model_name": "DescriptionStyleModel",
     "model_module_version": "1.5.0",
     "state": {
      "_model_module": "@jupyter-widgets/controls",
      "_model_module_version": "1.5.0",
      "_model_name": "DescriptionStyleModel",
      "_view_count": null,
      "_view_module": "@jupyter-widgets/base",
      "_view_module_version": "1.2.0",
      "_view_name": "StyleView",
      "description_width": ""
     }
    },
    "ea681d22244a4d7cb9aa5fc5853038f4": {
     "model_module": "@jupyter-widgets/base",
     "model_name": "LayoutModel",
     "model_module_version": "1.2.0",
     "state": {
      "_model_module": "@jupyter-widgets/base",
      "_model_module_version": "1.2.0",
      "_model_name": "LayoutModel",
      "_view_count": null,
      "_view_module": "@jupyter-widgets/base",
      "_view_module_version": "1.2.0",
      "_view_name": "LayoutView",
      "align_content": null,
      "align_items": null,
      "align_self": null,
      "border": null,
      "bottom": null,
      "display": null,
      "flex": null,
      "flex_flow": null,
      "grid_area": null,
      "grid_auto_columns": null,
      "grid_auto_flow": null,
      "grid_auto_rows": null,
      "grid_column": null,
      "grid_gap": null,
      "grid_row": null,
      "grid_template_areas": null,
      "grid_template_columns": null,
      "grid_template_rows": null,
      "height": null,
      "justify_content": null,
      "justify_items": null,
      "left": null,
      "margin": null,
      "max_height": null,
      "max_width": null,
      "min_height": null,
      "min_width": null,
      "object_fit": null,
      "object_position": null,
      "order": null,
      "overflow": null,
      "overflow_x": null,
      "overflow_y": null,
      "padding": null,
      "right": null,
      "top": null,
      "visibility": null,
      "width": null
     }
    },
    "b2052f439c8c44ceb05728591918b11f": {
     "model_module": "@jupyter-widgets/controls",
     "model_name": "ProgressStyleModel",
     "model_module_version": "1.5.0",
     "state": {
      "_model_module": "@jupyter-widgets/controls",
      "_model_module_version": "1.5.0",
      "_model_name": "ProgressStyleModel",
      "_view_count": null,
      "_view_module": "@jupyter-widgets/base",
      "_view_module_version": "1.2.0",
      "_view_name": "StyleView",
      "bar_color": null,
      "description_width": ""
     }
    },
    "c4077599db754043a36325b7af90f3d4": {
     "model_module": "@jupyter-widgets/base",
     "model_name": "LayoutModel",
     "model_module_version": "1.2.0",
     "state": {
      "_model_module": "@jupyter-widgets/base",
      "_model_module_version": "1.2.0",
      "_model_name": "LayoutModel",
      "_view_count": null,
      "_view_module": "@jupyter-widgets/base",
      "_view_module_version": "1.2.0",
      "_view_name": "LayoutView",
      "align_content": null,
      "align_items": null,
      "align_self": null,
      "border": null,
      "bottom": null,
      "display": null,
      "flex": null,
      "flex_flow": null,
      "grid_area": null,
      "grid_auto_columns": null,
      "grid_auto_flow": null,
      "grid_auto_rows": null,
      "grid_column": null,
      "grid_gap": null,
      "grid_row": null,
      "grid_template_areas": null,
      "grid_template_columns": null,
      "grid_template_rows": null,
      "height": null,
      "justify_content": null,
      "justify_items": null,
      "left": null,
      "margin": null,
      "max_height": null,
      "max_width": null,
      "min_height": null,
      "min_width": null,
      "object_fit": null,
      "object_position": null,
      "order": null,
      "overflow": null,
      "overflow_x": null,
      "overflow_y": null,
      "padding": null,
      "right": null,
      "top": null,
      "visibility": null,
      "width": null
     }
    },
    "a9ec1fe9f02843c49427ce9e6e1f1970": {
     "model_module": "@jupyter-widgets/controls",
     "model_name": "DescriptionStyleModel",
     "model_module_version": "1.5.0",
     "state": {
      "_model_module": "@jupyter-widgets/controls",
      "_model_module_version": "1.5.0",
      "_model_name": "DescriptionStyleModel",
      "_view_count": null,
      "_view_module": "@jupyter-widgets/base",
      "_view_module_version": "1.2.0",
      "_view_name": "StyleView",
      "description_width": ""
     }
    }
   }
  }
 },
 "cells": [
  {
   "metadata": {},
   "cell_type": "markdown",
   "source": "NOTEBOOK CREADO Y EJECUTADO EN GOOGLE COLAB"
  },
  {
   "metadata": {},
   "cell_type": "markdown",
   "source": "**Importar librerias necesarias**"
  },
  {
   "metadata": {},
   "cell_type": "code",
   "outputs": [],
   "execution_count": null,
   "source": [
    "# Uncomment the line for install ydata-profiling\n",
    "#!pip install ydata-profiling"
   ]
  },
  {
   "cell_type": "code",
   "execution_count": 20,
   "metadata": {
    "id": "tT7cqsU8BT6A"
   },
   "outputs": [],
   "source": [
    "import pandas as pd\n",
    "from ydata_profiling import ProfileReport\n",
    "import matplotlib.pyplot as plt\n",
    "import seaborn as sns"
   ]
  },
  {
   "cell_type": "code",
   "source": [
    "df = pd.read_csv('/content/the_oscar_award.csv')"
   ],
   "metadata": {
    "id": "_YTWW8GABoK4"
   },
   "execution_count": 21,
   "outputs": []
  },
  {
   "cell_type": "code",
   "source": [
    "print(\"Información del DataFrame (antes de limpiar):\")\n",
    "print(df.info())\n",
    "print(\"\\nValores faltantes por columna:\")\n",
    "print(df.isnull().sum())"
   ],
   "metadata": {
    "colab": {
     "base_uri": "https://localhost:8080/"
    },
    "id": "SSj3g7bwCNk6",
    "outputId": "a355266e-484e-451c-9115-ae5f6ab15fb9"
   },
   "execution_count": 22,
   "outputs": [
    {
     "output_type": "stream",
     "name": "stdout",
     "text": [
      "Información del DataFrame (antes de limpiar):\n",
      "<class 'pandas.core.frame.DataFrame'>\n",
      "RangeIndex: 11110 entries, 0 to 11109\n",
      "Data columns (total 8 columns):\n",
      " #   Column          Non-Null Count  Dtype \n",
      "---  ------          --------------  ----- \n",
      " 0   year_film       11110 non-null  int64 \n",
      " 1   year_ceremony   11110 non-null  int64 \n",
      " 2   ceremony        11110 non-null  int64 \n",
      " 3   category        11110 non-null  object\n",
      " 4   canon_category  11110 non-null  object\n",
      " 5   name            11103 non-null  object\n",
      " 6   film            10751 non-null  object\n",
      " 7   winner          11110 non-null  bool  \n",
      "dtypes: bool(1), int64(3), object(4)\n",
      "memory usage: 618.6+ KB\n",
      "None\n",
      "\n",
      "Valores faltantes por columna:\n",
      "year_film           0\n",
      "year_ceremony       0\n",
      "ceremony            0\n",
      "category            0\n",
      "canon_category      0\n",
      "name                7\n",
      "film              359\n",
      "winner              0\n",
      "dtype: int64\n"
     ]
    }
   ]
  },
  {
   "cell_type": "markdown",
   "source": [
    "**Limpieza y transformación de datos**"
   ],
   "metadata": {
    "id": "O_w8I4WeCgko"
   }
  },
  {
   "cell_type": "code",
   "source": [
    "df = df.dropna(subset=['name', 'film']).copy()\n",
    "for col in df.select_dtypes(include=['object']).columns:\n",
    "    df.loc[:, col] = df[col].str.strip()\n",
    "df = df.drop_duplicates()"
   ],
   "metadata": {
    "id": "zZeihxnOCRFO"
   },
   "execution_count": 23,
   "outputs": []
  },
  {
   "cell_type": "markdown",
   "source": [
    "**Revisar que se hizo la limpieza de los datos**"
   ],
   "metadata": {
    "id": "MN6H5LgHCvQC"
   }
  },
  {
   "cell_type": "code",
   "source": [
    "print(\"\\nInformación del DataFrame (después de limpiar):\")\n",
    "print(df.info())\n",
    "print(\"\\nValores faltantes por columna (después de limpiar):\")\n",
    "print(df.isnull().sum())\n",
    "print(f\"DataFrame limpio y transformado. Forma: {df.shape}\")"
   ],
   "metadata": {
    "colab": {
     "base_uri": "https://localhost:8080/"
    },
    "id": "xiolbLktCs9C",
    "outputId": "6c1a5ac2-63de-4a29-c8d4-113a3348689f"
   },
   "execution_count": 24,
   "outputs": [
    {
     "output_type": "stream",
     "name": "stdout",
     "text": [
      "\n",
      "Información del DataFrame (después de limpiar):\n",
      "<class 'pandas.core.frame.DataFrame'>\n",
      "Index: 10738 entries, 0 to 11105\n",
      "Data columns (total 8 columns):\n",
      " #   Column          Non-Null Count  Dtype \n",
      "---  ------          --------------  ----- \n",
      " 0   year_film       10738 non-null  int64 \n",
      " 1   year_ceremony   10738 non-null  int64 \n",
      " 2   ceremony        10738 non-null  int64 \n",
      " 3   category        10738 non-null  object\n",
      " 4   canon_category  10738 non-null  object\n",
      " 5   name            10738 non-null  object\n",
      " 6   film            10738 non-null  object\n",
      " 7   winner          10738 non-null  bool  \n",
      "dtypes: bool(1), int64(3), object(4)\n",
      "memory usage: 681.6+ KB\n",
      "None\n",
      "\n",
      "Valores faltantes por columna (después de limpiar):\n",
      "year_film         0\n",
      "year_ceremony     0\n",
      "ceremony          0\n",
      "category          0\n",
      "canon_category    0\n",
      "name              0\n",
      "film              0\n",
      "winner            0\n",
      "dtype: int64\n",
      "DataFrame limpio y transformado. Forma: (10738, 8)\n"
     ]
    }
   ]
  },
  {
   "cell_type": "markdown",
   "source": [
    "**===== Análisis Exploratorio de Datos (EDA) =====**"
   ],
   "metadata": {
    "id": "sb8ESGqLC-Oa"
   }
  },
  {
   "cell_type": "code",
   "source": [
    "print(\"Resumen estadístico de variables numéricas:\")\n",
    "print(df.describe())"
   ],
   "metadata": {
    "colab": {
     "base_uri": "https://localhost:8080/"
    },
    "id": "TObR2TOhCy15",
    "outputId": "360f0848-efc0-4fe0-bd3f-c7f3af831a74"
   },
   "execution_count": 25,
   "outputs": [
    {
     "output_type": "stream",
     "name": "stdout",
     "text": [
      "Resumen estadístico de variables numéricas:\n",
      "          year_film  year_ceremony      ceremony\n",
      "count  10738.000000   10738.000000  10738.000000\n",
      "mean    1977.135873    1978.135873     50.159434\n",
      "std       27.640551      27.640551     27.600347\n",
      "min     1927.000000    1928.000000      1.000000\n",
      "25%     1953.000000    1954.000000     26.000000\n",
      "50%     1976.000000    1977.000000     49.000000\n",
      "75%     2002.000000    2003.000000     75.000000\n",
      "max     2024.000000    2025.000000     97.000000\n"
     ]
    }
   ]
  },
  {
   "cell_type": "code",
   "source": [
    "print(\"\\nResumen estadístico de variables categóricas:\")\n",
    "print(df.describe(include=['object']))"
   ],
   "metadata": {
    "colab": {
     "base_uri": "https://localhost:8080/"
    },
    "id": "55sQ7-nyDBeV",
    "outputId": "4eb15e33-6ec0-4cc4-8d29-1f4f9d98b21d"
   },
   "execution_count": 26,
   "outputs": [
    {
     "output_type": "stream",
     "name": "stdout",
     "text": [
      "\n",
      "Resumen estadístico de variables categóricas:\n",
      "         category canon_category                 name            film\n",
      "count       10738          10738                10738           10738\n",
      "unique        112             53                 6697            5113\n",
      "top     DIRECTING   BEST PICTURE  Metro-Goldwyn-Mayer  A Star Is Born\n",
      "freq          476            611                   65              26\n"
     ]
    }
   ]
  },
  {
   "cell_type": "code",
   "source": [
    "print(\"\\nValores únicos por columna:\")\n",
    "for col in df.columns:\n",
    "    print(f\"{col}: {df[col].nunique()} únicos\")"
   ],
   "metadata": {
    "colab": {
     "base_uri": "https://localhost:8080/"
    },
    "id": "u0QckjwUDCsZ",
    "outputId": "96263846-d785-48e8-fe82-f7d681540ada"
   },
   "execution_count": 27,
   "outputs": [
    {
     "output_type": "stream",
     "name": "stdout",
     "text": [
      "\n",
      "Valores únicos por columna:\n",
      "year_film: 97 únicos\n",
      "year_ceremony: 97 únicos\n",
      "ceremony: 97 únicos\n",
      "category: 112 únicos\n",
      "canon_category: 53 únicos\n",
      "name: 6697 únicos\n",
      "film: 5113 únicos\n",
      "winner: 2 únicos\n"
     ]
    }
   ]
  },
  {
   "cell_type": "code",
   "source": [
    "print(\"\\nFrecuencias de las principales columnas categóricas:\")\n",
    "cat_cols = df.select_dtypes(include=['object']).columns\n",
    "for col in cat_cols:\n",
    "    print(f\"\\nFrecuencias de '{col}':\")\n",
    "    print(df[col].value_counts().head(10))"
   ],
   "metadata": {
    "colab": {
     "base_uri": "https://localhost:8080/"
    },
    "id": "W9IxAWosDE7c",
    "outputId": "871443c1-fc03-4e23-aa19-28a308555c40"
   },
   "execution_count": 28,
   "outputs": [
    {
     "output_type": "stream",
     "name": "stdout",
     "text": [
      "\n",
      "Frecuencias de las principales columnas categóricas:\n",
      "\n",
      "Frecuencias de 'category':\n",
      "category\n",
      "DIRECTING                       476\n",
      "FILM EDITING                    455\n",
      "ACTRESS IN A SUPPORTING ROLE    445\n",
      "ACTOR IN A SUPPORTING ROLE      445\n",
      "BEST PICTURE                    381\n",
      "DOCUMENTARY (Short Subject)     378\n",
      "DOCUMENTARY (Feature)           345\n",
      "CINEMATOGRAPHY                  345\n",
      "FOREIGN LANGUAGE FILM           315\n",
      "ART DIRECTION                   309\n",
      "Name: count, dtype: int64\n",
      "\n",
      "Frecuencias de 'canon_category':\n",
      "canon_category\n",
      "BEST PICTURE                    611\n",
      "MUSIC (Original Score)          524\n",
      "ACTRESS IN A LEADING ROLE       484\n",
      "WRITING (Adapted Screenplay)    482\n",
      "ACTOR IN A LEADING ROLE         481\n",
      "DIRECTING                       476\n",
      "MUSIC (Original Song)           474\n",
      "FILM EDITING                    455\n",
      "ACTRESS IN A SUPPORTING ROLE    445\n",
      "ACTOR IN A SUPPORTING ROLE      445\n",
      "Name: count, dtype: int64\n",
      "\n",
      "Frecuencias de 'name':\n",
      "name\n",
      "Metro-Goldwyn-Mayer    65\n",
      "Walt Disney            60\n",
      "John Williams          47\n",
      "Warner Bros.           44\n",
      "France                 38\n",
      "Alfred Newman          34\n",
      "Italy                  29\n",
      "Paramount              25\n",
      "20th Century-Fox       22\n",
      "RKO Radio              22\n",
      "Name: count, dtype: int64\n",
      "\n",
      "Frecuencias de 'film':\n",
      "film\n",
      "A Star Is Born          26\n",
      "West Side Story         18\n",
      "Titanic                 16\n",
      "Moulin Rouge            15\n",
      "Mutiny on the Bounty    15\n",
      "Cleopatra               14\n",
      "Little Women            14\n",
      "La La Land              14\n",
      "All about Eve           14\n",
      "Gone with the Wind      14\n",
      "Name: count, dtype: int64\n"
     ]
    }
   ]
  },
  {
   "cell_type": "code",
   "source": [
    "print(\"\\nMedias, medianas y desviaciones estándar de variables numéricas:\")\n",
    "num_cols = df.select_dtypes(include=['number']).columns\n",
    "for col in num_cols:\n",
    "    print(f\"{col}: media={df[col].mean()}, mediana={df[col].median()}, desviación estándar={df[col].std()}\")"
   ],
   "metadata": {
    "colab": {
     "base_uri": "https://localhost:8080/"
    },
    "id": "KLrUqJpUDIh-",
    "outputId": "f440deb6-fb00-4d72-a6e7-03de6311c7f7"
   },
   "execution_count": 29,
   "outputs": [
    {
     "output_type": "stream",
     "name": "stdout",
     "text": [
      "\n",
      "Medias, medianas y desviaciones estándar de variables numéricas:\n",
      "year_film: media=1977.1358726019744, mediana=1976.0, desviación estándar=27.64055120575204\n",
      "year_ceremony: media=1978.1358726019744, mediana=1977.0, desviación estándar=27.64055120575204\n",
      "ceremony: media=50.159433786552434, mediana=49.0, desviación estándar=27.60034745094718\n"
     ]
    }
   ]
  },
  {
   "cell_type": "code",
   "source": [
    "print(\"Generando reporte HTML de EDA con ydata-profiling...\")\n",
    "profile = ProfileReport(df, title=\"Reporte EDA - Oscars\", explorative=True)\n",
    "profile.to_file(\"oscar_eda_report.html\")\n",
    "print(\"Reporte HTML guardado como 'oscar_eda_report.html'.\")"
   ],
   "metadata": {
    "colab": {
     "base_uri": "https://localhost:8080/",
     "height": 247,
     "referenced_widgets": [
      "c205d5c5ae0c4c9695b9f0700671652d",
      "d17ae130ade64f54b75241133b325572",
      "ac244164ccfd4253820297107a76b094",
      "c4404f9170384fdd99933c722db2a19f",
      "286cc9cbdb2a4e849ddc47e4bef14863",
      "2d178059b4df42688f632245baf81c31",
      "5bd9df9f25534d488cdcf6e195c16ad9",
      "2a2c333b6aab47ce9e1401aa7dd68d53",
      "a7487312fe8d4003acb8bd2594c5a973",
      "6de7922e448345fbaea9004622a572b0",
      "280aa4f869ee40ceb4679196259a5788",
      "d1ea1cbab0504747b8f50b36bc95b923",
      "55030e1e6be54906aaffc3748e687bf0",
      "fe8563c008a44720ac044de17924d83e",
      "2cd8cf8d14fc4643aa7c6c5b2e8ae2ad",
      "cbd1109b11364c5bb597dde4709dd6ae",
      "afac5bc9790e47bb97d7c2f119f43b36",
      "9b64276bbcc14bc4a8d712d707435249",
      "31471cb3761d435d9a7a5d0a207601ab",
      "2fefe413a71d4cdf8a326a77c4a1194a",
      "8314e2898c2b485fa94b783ae5de7fc8",
      "fc143fbdc0544621b978d9e4df0af1f3",
      "e2f4421207e345b9a70e1571c94dc45d",
      "a0fcd2de48ef44a4914e96a8bf684bdb",
      "083fd0aeff794c6e8ca7e8afccc5e457",
      "84b082c8a8a64d33ac2245df50feda8d",
      "049dd2c5a02443d8a4ca783d2e688263",
      "dfacec369a4045d6a46502b494db900d",
      "eeec7b1d806246ce8c2ae6bcb55e1fd9",
      "027a859b6e3e4af7a27834211de07db2",
      "523ef4e635c54d888207f6fe7d209146",
      "fb567196461f4dcdb0409424ce7bb334",
      "33ed7370c57c4eca8d77cc70a7d89937",
      "ff7e2a5280494cf3b1362ac1e9ca51a9",
      "5d2b3dc191fa40e0a23ab9855ea6d917",
      "fc5b0e5d80aa415598ee7e6871ed4b27",
      "9a9079bda20c471d815198c957f7c509",
      "8f202cab266c4c62bb5e1b181b6ed2cb",
      "7a30ab2776604166bba4d7ffe602e49a",
      "7f937323e844419daa0c07bae26a927f",
      "ea681d22244a4d7cb9aa5fc5853038f4",
      "b2052f439c8c44ceb05728591918b11f",
      "c4077599db754043a36325b7af90f3d4",
      "a9ec1fe9f02843c49427ce9e6e1f1970"
     ]
    },
    "id": "kFpW4JK4DMFv",
    "outputId": "cfbba45f-58bf-4c02-a43f-39d2bf31194a"
   },
   "execution_count": 30,
   "outputs": [
    {
     "output_type": "stream",
     "name": "stdout",
     "text": [
      "Generando reporte HTML de EDA con ydata-profiling...\n"
     ]
    },
    {
     "output_type": "display_data",
     "data": {
      "text/plain": [
       "Summarize dataset:   0%|          | 0/5 [00:00<?, ?it/s]"
      ],
      "application/vnd.jupyter.widget-view+json": {
       "version_major": 2,
       "version_minor": 0,
       "model_id": "c205d5c5ae0c4c9695b9f0700671652d"
      }
     },
     "metadata": {}
    },
    {
     "output_type": "stream",
     "name": "stderr",
     "text": [
      "\n",
      "  0%|          | 0/8 [00:00<?, ?it/s]\u001B[A\n",
      " 50%|█████     | 4/8 [00:00<00:00, 36.88it/s]\u001B[A\n",
      "100%|██████████| 8/8 [00:00<00:00, 22.75it/s]\n"
     ]
    },
    {
     "output_type": "display_data",
     "data": {
      "text/plain": [
       "Generate report structure:   0%|          | 0/1 [00:00<?, ?it/s]"
      ],
      "application/vnd.jupyter.widget-view+json": {
       "version_major": 2,
       "version_minor": 0,
       "model_id": "d1ea1cbab0504747b8f50b36bc95b923"
      }
     },
     "metadata": {}
    },
    {
     "output_type": "display_data",
     "data": {
      "text/plain": [
       "Render HTML:   0%|          | 0/1 [00:00<?, ?it/s]"
      ],
      "application/vnd.jupyter.widget-view+json": {
       "version_major": 2,
       "version_minor": 0,
       "model_id": "e2f4421207e345b9a70e1571c94dc45d"
      }
     },
     "metadata": {}
    },
    {
     "output_type": "display_data",
     "data": {
      "text/plain": [
       "Export report to file:   0%|          | 0/1 [00:00<?, ?it/s]"
      ],
      "application/vnd.jupyter.widget-view+json": {
       "version_major": 2,
       "version_minor": 0,
       "model_id": "ff7e2a5280494cf3b1362ac1e9ca51a9"
      }
     },
     "metadata": {}
    },
    {
     "output_type": "stream",
     "name": "stdout",
     "text": [
      "Reporte HTML guardado como 'oscar_eda_report.html'.\n"
     ]
    }
   ]
  },
  {
   "cell_type": "markdown",
   "source": [
    "**===== Generando Visualizaciones =====**"
   ],
   "metadata": {
    "id": "V-mSE6l2DYkk"
   }
  },
  {
   "cell_type": "code",
   "source": [
    "# 1. Histogram of awards by year\n",
    "plt.figure(figsize=(12, 6))\n",
    "sns.histplot(df['year_film'], bins=30, kde=True)\n",
    "plt.title('Distribución de Premios Oscar por Año de Película')\n",
    "plt.xlabel('Año de las Películas')\n",
    "plt.ylabel('Número de Premios')\n",
    "plt.grid(True)\n",
    "plt.savefig('distribution_awards_year.png')\n",
    "plt.close()\n",
    "print(\"Histograma de premios por año guardado en 'distribution_awards_year.png'\")"
   ],
   "metadata": {
    "colab": {
     "base_uri": "https://localhost:8080/"
    },
    "id": "iK3PDx4qDPMK",
    "outputId": "f2697c51-d727-4a0f-a992-ddd7288cec20"
   },
   "execution_count": 31,
   "outputs": [
    {
     "output_type": "stream",
     "name": "stdout",
     "text": [
      "Histograma de premios por año guardado en 'distribution_awards_year.png'\n"
     ]
    }
   ]
  },
  {
   "cell_type": "code",
   "source": [
    "# 2. Bar chart of top 10 most awarded films\n",
    "plt.figure(figsize=(12, 8))\n",
    "top_films = df['film'].value_counts().nlargest(10)\n",
    "sns.barplot(x=top_films.values, y=top_films.index, hue=top_films.index, palette='viridis', legend=False)\n",
    "plt.title('Top 10 Películas con Más Nominaciones/Premios Oscar')\n",
    "plt.xlabel('Número de Nominaciones/Premios')\n",
    "plt.ylabel('Película')\n",
    "plt.tight_layout()\n",
    "plt.savefig('most_awarded_movies.png')\n",
    "plt.close()\n",
    "print(\"Gráfico de barras de top 10 películas guardado en 'most_awarded_movies.png'\")"
   ],
   "metadata": {
    "colab": {
     "base_uri": "https://localhost:8080/"
    },
    "id": "xf3VF7RHDeCT",
    "outputId": "36440b97-135b-4db2-d15a-39f6281e66d6"
   },
   "execution_count": 32,
   "outputs": [
    {
     "output_type": "stream",
     "name": "stdout",
     "text": [
      "Gráfico de barras de top 10 películas guardado en 'most_awarded_movies.png'\n"
     ]
    }
   ]
  },
  {
   "cell_type": "code",
   "source": [
    "# 3. Bar chart of top 10 most frequent award categories\n",
    "plt.figure(figsize=(12, 8))\n",
    "top_categories = df['category'].value_counts().nlargest(10)\n",
    "sns.barplot(x=top_categories.values, y=top_categories.index, hue=top_categories.index, palette='plasma', legend=False)\n",
    "plt.title('Top 10 Categorías de Premios Oscar más Frecuentes')\n",
    "plt.xlabel('Frecuencia')\n",
    "plt.ylabel('Categoría')\n",
    "plt.tight_layout()\n",
    "plt.savefig('most_awarded_categories.png')\n",
    "plt.close()\n",
    "print(\"Gráfico de barras de top 10 categorías guardado en 'most_awarded_categories.png'\")"
   ],
   "metadata": {
    "colab": {
     "base_uri": "https://localhost:8080/"
    },
    "id": "xFQ15L5_DmeU",
    "outputId": "61451ef0-1ede-4247-efb8-517af6cee0a0"
   },
   "execution_count": 33,
   "outputs": [
    {
     "output_type": "stream",
     "name": "stdout",
     "text": [
      "Gráfico de barras de top 10 categorías guardado en 'most_awarded_categories.png'\n"
     ]
    }
   ]
  },
  {
   "cell_type": "code",
   "source": [],
   "metadata": {
    "id": "VtgfPZscDrsh"
   },
   "execution_count": 33,
   "outputs": []
  }
 ]
}
